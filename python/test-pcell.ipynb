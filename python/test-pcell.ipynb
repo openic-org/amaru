{
 "cells": [
  {
   "cell_type": "code",
   "execution_count": 26,
   "id": "c9e0c01b",
   "metadata": {},
   "outputs": [
    {
     "data": {
      "text/plain": [
       "True"
      ]
     },
     "execution_count": 26,
     "metadata": {},
     "output_type": "execute_result"
    }
   ],
   "source": [
    "# Functions\n",
    "def nmos_sg13_lv_nmos(f,name,w_um,l_um,ng,m,position):\n",
    "    libraryname = 'sg13g2_pr'\n",
    "    modelname = 'sg13_lv_nmos'\n",
    "    f.write('C {' + libraryname + '/' + modelname + '.sym} ' + str(position[0]) + ' ' + str(position[1]) + ' ' + str(position[2]) + ' ' + str(position[3]) + ' {name=' + name + '\\n')\n",
    "    f.write('l=' + str(l_um) + 'u\\n')\n",
    "    f.write('w=' + str(w_um) + 'u\\n')\n",
    "    f.write('ng=' + str(ng) + '\\n')\n",
    "    f.write('m=' + str(m) + '\\n')\n",
    "    f.write('model=' + modelname + '\\n')\n",
    "    f.write('spiceprefix=X\\n')\n",
    "    f.write('}\\n')\n",
    "\n",
    "\n",
    "def pmos_sg13_lv_pmos(f,name,w_um,l_um,ng,m,position):\n",
    "    libraryname = 'sg13g2_pr'\n",
    "    modelname = 'sg13_lv_pmos'\n",
    "    f.write('C {' + libraryname + '/' + modelname + '.sym} ' + str(position[0]) + ' ' + str(position[1]) + ' ' + str(position[2]) + ' ' + str(position[3]) + ' {name=' + name + '\\n')\n",
    "    f.write('l=' + str(l_um) + 'u\\n')\n",
    "    f.write('w=' + str(w_um) + 'u\\n')\n",
    "    f.write('ng=' + str(ng) + '\\n')\n",
    "    f.write('m=' + str(m) + '\\n')\n",
    "    f.write('model=' + modelname + '\\n')\n",
    "    f.write('spiceprefix=X\\n')\n",
    "    f.write('}\\n')\n",
    "\n",
    "def iopin(f,name,label,position):\n",
    "    pintype = 'iopin'\n",
    "    f.write('C {' + pintype + '.sym} ' + str(position[0]) + ' ' + str(position[1]) + ' ' + str(position[2]) + ' ' + str(position[3]) + ' {name=' + name + ' lab=' + label +'}\\n')\n",
    "\n",
    "# Create a new schematic file\n",
    "filename = 'test.sch'\n",
    "with open(filename, 'w', encoding=\"utf-8\") as f:\n",
    "    f.write('v {xschem version=3.4.6 file_version=1.2}\\n')\n",
    "    f.write('G {}\\n')\n",
    "    f.write('K {}\\n')\n",
    "    f.write('V {}\\n')\n",
    "    f.write('S {}\\n')\n",
    "    f.write('E {}\\n')\n",
    "    f.write('N -40 0 -40 50 {lab=A}\\n')\n",
    "    f.write('N -60 0 -40 0 {lab=A}\\n')\n",
    "    f.write('N -40 -50 -40 0 {lab=A}\\n')\n",
    "    f.write('N 0 0 0 20 {lab=xxx}\\n')\n",
    "    f.write('N 0 0 70 0 {lab=xxx}\\n')\n",
    "    f.write('N 0 -20 0 0 {lab=xxx}\\n')\n",
    "    f.write('N 0 -100 0 -50 {lab=VDD}\\n')\n",
    "    f.write('N -0 50 -0 100 {lab=VSS}\\n')\n",
    "    nmos_sg13_lv_nmos(f,'M1',1,0.13,1,1,[-20,50,0,0])\n",
    "    pmos_sg13_lv_pmos(f,'M2',2,0.13,1,1,[-20,-50,0,0])\n",
    "    iopin(f,'p1','VDD',[0,-100,0,0])\n",
    "    iopin(f,'p2','VSS',[0,100,0,0])\n",
    "    iopin(f,'p3','A',[-60,0,0,1])\n",
    "    iopin(f,'p4','Z',[70,0,0,0])\n",
    "\n",
    "f.closed\n",
    "\n",
    "# \n"
   ]
  },
  {
   "cell_type": "code",
   "execution_count": 30,
   "id": "380425ba",
   "metadata": {},
   "outputs": [
    {
     "name": "stdout",
     "output_type": "stream",
     "text": [
      "10\n",
      "[\n"
     ]
    }
   ],
   "source": [
    "p = [0,10,20]\n",
    "print(p[1])\n",
    "p = str(p)\n",
    "print(p[0])\n",
    "a=float('1')\n",
    "b=4.3"
   ]
  }
 ],
 "metadata": {
  "kernelspec": {
   "display_name": ".venv",
   "language": "python",
   "name": "python3"
  },
  "language_info": {
   "codemirror_mode": {
    "name": "ipython",
    "version": 3
   },
   "file_extension": ".py",
   "mimetype": "text/x-python",
   "name": "python",
   "nbconvert_exporter": "python",
   "pygments_lexer": "ipython3",
   "version": "3.13.5"
  }
 },
 "nbformat": 4,
 "nbformat_minor": 5
}

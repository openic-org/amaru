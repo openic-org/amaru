{
 "cells": [
  {
   "cell_type": "code",
   "execution_count": 1,
   "id": "90adb349",
   "metadata": {},
   "outputs": [],
   "source": [
    "# transistor parameters\n",
    "\n",
    "vth = 0.4 # V\n",
    "uncox = 170e-6 # A/V^2\n",
    "lambdan = 0.18 # 1/V\n",
    "cgs_w_l130nm = 1.19*1e-15/1e-6 # F/m\n",
    "cgd_w_l130nm = 0.65*1e-15/1e-6 # F/m\n",
    "cdb_w = 0.31*1e-15/1e-6 # F/m\n",
    "csb_w = 0.4*1e-15/1e-6 # F/m\n",
    "cov_w = 300/500*1e-15/1e-6 # F/m"
   ]
  },
  {
   "cell_type": "code",
   "execution_count": 5,
   "id": "80a66e18",
   "metadata": {},
   "outputs": [
    {
     "name": "stdout",
     "output_type": "stream",
     "text": [
      "c_res = 3.3184329478923847e-12\n",
      "cb = 1.6908535129462953e-13\n",
      "c_ext = 2.7425065685061025e-12\n",
      "c1off = [9.55e-16 1.91e-15 9.55e-15 1.91e-14 3.82e-14 9.55e-14]\n",
      "c_par = 1.54120328472148e-13\n",
      "q_ind = 296\n",
      "Rp_ind = 36711.523\n",
      "Cs_cap = [1.48766979e-11 2.97533959e-11 1.48766979e-10 2.97533959e-10\n",
      " 5.95067918e-10 1.48766979e-09]\n",
      "Rs_cap = [2867.40128856 1433.70064428  286.74012886  143.37006443   71.68503221\n",
      "   28.67401289]\n",
      "Ron = [2867.64705882 1433.82352941  286.76470588  143.38235294   71.69117647\n",
      "   28.67647059]\n"
     ]
    }
   ],
   "source": [
    "# cap bank modeling\n",
    "\n",
    "# unit row\n",
    "# ****************************************\n",
    "\n",
    "import numpy as np\n",
    "import matplotlib.pyplot as plt\n",
    "\n",
    "# inputs\n",
    "# ****************************\n",
    "Ls = 47e-9\n",
    "Rs = 0.419\n",
    "f_sr = 1870e6\n",
    "q_ind = 296 #q_coil @ fosc\n",
    "f_center = 403e6\n",
    "n = 4\n",
    "# ****************************\n",
    "\n",
    "# initial values of Msw\n",
    "widthn = np.array([0.5e-6,1e-6,5e-6,10e-6,20e-6,50e-6]) # m\n",
    "lengthn = 0.13e-6 # m\n",
    "vgs = 1.2 # V\n",
    "\n",
    "cgs = cgs_w_l130nm*widthn\n",
    "cgd = cgd_w_l130nm*widthn\n",
    "cdb = cdb_w*widthn\n",
    "csb = csb_w*widthn\n",
    "cov = cov_w*widthn\n",
    "\n",
    "c1off = 2*(cdb + csb + 2*cov)/2\n",
    "c1on = 2*(cdb + csb + cgd + cgs)/2\n",
    "\n",
    "Ron = 1/(uncox*(widthn/lengthn)*(vgs-vth))\n",
    "Ron = 1.5*Ron\n",
    "\n",
    "# unit cap = cb\n",
    "pi_value = 3.14159\n",
    "\n",
    "c_par = 1/(Ls * (2*pi_value*f_sr)**2)\n",
    "\n",
    "Rp_ind = Rs*(1+q_ind**2)\n",
    "f_ul = 1.1*f_center\n",
    "f_step = (f_ul-f_center)/(2**(n-1))\n",
    "c_res = 1/((2*pi_value*f_center)**2 * Ls)\n",
    "print('c_res = ' + str(c_res))\n",
    "cb = 2*(1/((2*pi_value*(f_center-f_step))**2 * Ls) - c_res)\n",
    "print('cb = ' + str(cb))\n",
    "c_ext = 1/((2*pi_value*f_ul)**2 * Ls)\n",
    "print('c_ext = ' + str(c_ext))\n",
    "print('c1off = ' + str(c1off))\n",
    "\n",
    "Cs_cap = c1on * (1 + (2*pi_value*f_center*Ron*c1on)**2)/((2*pi_value*f_center*Ron*c1on)**2)\n",
    "Rs_cap = Ron / (1+(2*pi_value*f_center*Ron*c1on)**2)\n",
    "\n",
    "Rp_cap = 1/((Rs_cap)*(2*pi_value*f_center*cb)**2)\n",
    "Rp_cap_total = (2*Rp_cap)/(2**n - 1)\n",
    "\n",
    "print('c_par = ' + str(c_par))\n",
    "print('q_ind = ' + str(q_ind))\n",
    "print('Rp_ind = ' + str(Rp_ind))\n",
    "print('Cs_cap = ' + str(Cs_cap))\n",
    "print('Rs_cap = ' + str(Rs_cap))\n",
    "print('Ron = ' + str(Ron))\n"
   ]
  },
  {
   "cell_type": "code",
   "execution_count": 6,
   "id": "c712f27f",
   "metadata": {},
   "outputs": [
    {
     "data": {
      "image/png": "[encoded data removed]",
      "text/plain": [
       "<Figure size 640x480 with 2 Axes>"
      ]
     },
     "metadata": {},
     "output_type": "display_data"
    }
   ],
   "source": [
    "# ID vs VDS\n",
    "fig, axs = plt.subplots(2,1,sharex='col')\n",
    "\n",
    "#axs[0].set_title('sg13_lv_nmos (L=0.5um, VGS=0.75V)')\n",
    "axs[0].plot(widthn*1e6, Rp_cap_total, label='Rp_cap_total')\n",
    "axs[0].plot(widthn*1e6, Rp_ind*np.array([1,1,1,1,1,1])/10, label='Rp_ind/10')\n",
    "axs[0].set_ylabel('Z (Ohm)')\n",
    "axs[0].grid()\n",
    "axs[0].legend(loc='best',fontsize='small')\n",
    "axs[1].set_xlabel('Wn (um)')\n",
    "axs[1].grid()\n",
    "\n",
    "plt.show()"
   ]
  },
  {
   "cell_type": "code",
   "execution_count": 7,
   "id": "592efbec",
   "metadata": {},
   "outputs": [
    {
     "name": "stdout",
     "output_type": "stream",
     "text": [
      "widthn_val = 7.236077494108565e-06\n",
      "cb = 1.6908535129462953e-13\n",
      "c_ext = 2.7425065685061025e-12\n"
     ]
    }
   ],
   "source": [
    "# output W\n",
    "widthn_val = np.interp(Rp_ind/10,Rp_cap_total,widthn)\n",
    "print('widthn_val = ' + str(widthn_val))\n",
    "print('cb = ' + str(cb))\n",
    "print('c_ext = ' + str(c_ext))\n"
   ]
  }
 ],
 "metadata": {
  "kernelspec": {
   "display_name": ".venv",
   "language": "python",
   "name": "python3"
  },
  "language_info": {
   "codemirror_mode": {
    "name": "ipython",
    "version": 3
   },
   "file_extension": ".py",
   "mimetype": "text/x-python",
   "name": "python",
   "nbconvert_exporter": "python",
   "pygments_lexer": "ipython3",
   "version": "3.13.5"
  }
 },
 "nbformat": 4,
 "nbformat_minor": 5
}

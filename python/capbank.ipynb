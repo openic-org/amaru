{
 "cells": [
  {
   "cell_type": "code",
   "execution_count": 37,
   "id": "90adb349",
   "metadata": {},
   "outputs": [],
   "source": [
    "# transistor parameters\n",
    "\n",
    "vth = 0.4 # V\n",
    "uncox = 170e-6 # A/V^2\n",
    "lambdan = 0.18 # 1/V\n",
    "cgs_w_l130nm = 1.19*1e-15/1e-6 # F/m\n",
    "cgd_w_l130nm = 0.65*1e-15/1e-6 # F/m\n",
    "cdb_w = 0.31*1e-15/1e-6 # F/m\n",
    "csb_w = 0.4*1e-15/1e-6 # F/m\n",
    "cov_w = 300/500*1e-15/1e-6 # F/m"
   ]
  },
  {
   "cell_type": "code",
   "execution_count": 53,
   "id": "80a66e18",
   "metadata": {},
   "outputs": [
    {
     "name": "stdout",
     "output_type": "stream",
     "text": [
      "c_res = 1.3510306578951275e-12\n",
      "cb = 6.88395688528522e-14\n",
      "c_par = 3.957865422157805e-13\n",
      "q_ind = 220\n",
      "q_ind_est = 45343.615666666665\n",
      "Rp_ind = 290.406\n",
      "Cs_cap = [2.31940891e-10 4.63881782e-10 2.31940891e-09 4.63881782e-09\n",
      " 9.27763564e-09 2.31940891e-08]\n",
      "Rs_cap = [955.87972566 477.93986283  95.58797257  47.79398628  23.89699314\n",
      "   9.55879726]\n",
      "Ron = [1911.76470588  955.88235294  191.17647059   95.58823529   47.79411765\n",
      "   19.11764706]\n"
     ]
    }
   ],
   "source": [
    "# cap bank modeling\n",
    "\n",
    "# unit row\n",
    "# ****************************************\n",
    "\n",
    "import numpy as np\n",
    "import matplotlib.pyplot as plt\n",
    "\n",
    "# initial values of Msw\n",
    "widthn = np.array([0.5e-6,1e-6,5e-6,10e-6,20e-6,50e-6]) # m\n",
    "lengthn = 0.13e-6 # m\n",
    "vgs = 1.2 # V\n",
    "n = 4\n",
    "\n",
    "cgs = cgs_w_l130nm*widthn\n",
    "cgd = cgd_w_l130nm*widthn\n",
    "cdb = cdb_w*widthn\n",
    "csb = csb_w*widthn\n",
    "cov = cov_w*widthn\n",
    "\n",
    "c1off = (cdb + csb + 2*cov)/2\n",
    "c2off = c1off\n",
    "\n",
    "c1on = (cdb + csb + cgd + cgs)/2\n",
    "c2on = c1on\n",
    "\n",
    "Ron = 1/(uncox*(widthn/lengthn)*(vgs-vth))\n",
    "\n",
    "# unit cap = cb\n",
    "pi_value = 3.14159\n",
    "Ls = 100e-9\n",
    "Rs = 6e-3\n",
    "f_sr = 800e6\n",
    "c_par = 1/(Ls * (2*pi_value*f_sr)**2)\n",
    "f_center = 433e6\n",
    "q_ind_est = 2*pi_value*f_center*Ls/Rs\n",
    "q_ind = 220 #q_coil\n",
    "Rp_ind = Rs*(1+q_ind**2)\n",
    "f_ul = 1.1*f_center\n",
    "f_step = (f_ul-f_center)/(2**(n-1))\n",
    "c_res = 1/((2*pi_value*f_center)**2 * Ls)\n",
    "print('c_res = ' + str(c_res))\n",
    "cb = 2*(1/((2*pi_value*(f_center-f_step))**2 * Ls) - c_res)\n",
    "print('cb = ' + str(cb))\n",
    "\n",
    "Zmag_c1on = 1/(2*pi_value*f_center*c1on)\n",
    "\n",
    "#Cp_cap = cb/2\n",
    "\n",
    "Cs_cap = c1on * (1 + (2*pi_value*f_center*Ron*0.5*c1on)**2)/((2*pi_value*f_center*Ron*0.5*c1on)**2)\n",
    "Rs_cap = 0.5*Ron / (1+(2*pi_value*f_center*Ron*0.5*c1on)**2)\n",
    "\n",
    "Rp_cap = 1/((2*Rs_cap)*(2*pi_value*f_center*2*cb)**2)\n",
    "Rp_cap_total = Rp_cap/2**n\n",
    "\n",
    "print('c_par = ' + str(c_par))\n",
    "print('q_ind = ' + str(q_ind))\n",
    "print('q_ind_est = ' + str(q_ind_est))\n",
    "print('Rp_ind = ' + str(Rp_ind))\n",
    "print('Cs_cap = ' + str(Cs_cap))\n",
    "print('Rs_cap = ' + str(Rs_cap))\n",
    "print('Ron = ' + str(Ron))\n"
   ]
  },
  {
   "cell_type": "code",
   "execution_count": 54,
   "id": "c712f27f",
   "metadata": {},
   "outputs": [
    {
     "name": "stderr",
     "output_type": "stream",
     "text": [
      "C:\\Users\\Manuel\\AppData\\Local\\Temp\\ipykernel_30044\\1294258316.py:12: UserWarning: No artists with labels found to put in legend.  Note that artists whose label start with an underscore are ignored when legend() is called with no argument.\n",
      "  axs[1].legend(loc='best',fontsize='small')\n"
     ]
    },
    {
     "data": {
      "image/png": "[encoded data removed]",
      "text/plain": [
       "<Figure size 640x480 with 2 Axes>"
      ]
     },
     "metadata": {},
     "output_type": "display_data"
    }
   ],
   "source": [
    "# ID vs VDS\n",
    "fig, axs = plt.subplots(2,1,sharex='col')\n",
    "\n",
    "#axs[0].set_title('sg13_lv_nmos (L=0.5um, VGS=0.75V)')\n",
    "axs[0].plot(widthn*1e6, Rp_cap_total, label='Rp_cap_total')\n",
    "axs[0].plot(widthn*1e6, 10*Rp_ind*np.array([1,1,1,1,1,1]), label='10xRp_ind')\n",
    "axs[0].set_ylabel('Z (Ohm)')\n",
    "axs[0].grid()\n",
    "axs[0].legend(loc='best',fontsize='small')\n",
    "axs[1].set_xlabel('Wn (um)')\n",
    "axs[1].grid()\n",
    "axs[1].legend(loc='best',fontsize='small')\n",
    "\n",
    "plt.show()"
   ]
  },
  {
   "cell_type": "code",
   "execution_count": 55,
   "id": "592efbec",
   "metadata": {},
   "outputs": [
    {
     "name": "stdout",
     "output_type": "stream",
     "text": [
      "widthn_val = 6.231604586021373e-06\n",
      "widthn_val/2 = 3.1158022930106866e-06\n"
     ]
    }
   ],
   "source": [
    "# output W\n",
    "widthn_val = np.interp(10*Rp_ind,Rp_cap_total,widthn)\n",
    "print('widthn_val = ' + str(widthn_val))\n",
    "print('widthn_val/2 = ' + str(widthn_val/2))"
   ]
  }
 ],
 "metadata": {
  "kernelspec": {
   "display_name": ".venv",
   "language": "python",
   "name": "python3"
  },
  "language_info": {
   "codemirror_mode": {
    "name": "ipython",
    "version": 3
   },
   "file_extension": ".py",
   "mimetype": "text/x-python",
   "name": "python",
   "nbconvert_exporter": "python",
   "pygments_lexer": "ipython3",
   "version": "3.13.5"
  }
 },
 "nbformat": 4,
 "nbformat_minor": 5
}

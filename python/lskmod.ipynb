{
 "cells": [
  {
   "cell_type": "code",
   "execution_count": 1,
   "id": "90adb349",
   "metadata": {},
   "outputs": [],
   "source": [
    "# transistor parameters\n",
    "\n",
    "vth = 0.4 # V\n",
    "uncox = 170e-6 # A/V^2\n",
    "lambdan = 0.18 # 1/V\n",
    "cgs_w_l130nm = 1.19*1e-15/1e-6 # F/m\n",
    "cgd_w_l130nm = 0.65*1e-15/1e-6 # F/m\n",
    "cdb_w = 0.31*1e-15/1e-6 # F/m\n",
    "csb_w = 0.4*1e-15/1e-6 # F/m\n",
    "cov_w = 300/500*1e-15/1e-6 # F/m"
   ]
  },
  {
   "cell_type": "code",
   "execution_count": 2,
   "id": "80a66e18",
   "metadata": {},
   "outputs": [
    {
     "name": "stdout",
     "output_type": "stream",
     "text": [
      "c_res = 2.8745333146704837e-12\n",
      "c_par = 1.54120328472148e-13\n",
      "q_ind = 289\n",
      "q_ind_est = 271.48406832271763\n",
      "Rp_ind = 39338.862\n",
      "f0 = 433000000.0\n",
      "f0mod = [4.32993975e+08 4.32987950e+08 4.32939759e+08 4.32879544e+08\n",
      " 4.32759188e+08 4.32398722e+08]\n",
      "Ron = [1911.76470588  955.88235294  191.17647059   95.58823529   47.79411765\n",
      "   19.11764706]\n",
      "Req = [1823.16376615  933.2066644   190.25189666   95.35653153   47.73612141\n",
      "   19.1083609 ]\n",
      "z_rlc_p_mod_mag = [1823.16362261  933.20658741  190.25188035   95.35652331   47.73611729\n",
      "   19.10835925]\n"
     ]
    }
   ],
   "source": [
    "# lsk modulator modeling\n",
    "\n",
    "import numpy as np\n",
    "import matplotlib.pyplot as plt\n",
    "\n",
    "\n",
    "Ls = 47e-9\n",
    "Rs = 0.471\n",
    "f_sr = 1870e6\n",
    "f_center = 433e6\n",
    "q_ind = 289 #q_coil\n",
    "\n",
    "# initial values of Msw\n",
    "widthn = np.array([0.5e-6,1e-6,5e-6,10e-6,20e-6,50e-6]) # m\n",
    "lengthn = 0.13e-6 # m\n",
    "vgs = 1.2 # V\n",
    "\n",
    "cgs = cgs_w_l130nm*widthn\n",
    "cgd = cgd_w_l130nm*widthn\n",
    "cdb = cdb_w*widthn\n",
    "csb = csb_w*widthn\n",
    "cov = cov_w*widthn\n",
    "\n",
    "c1off = (cdb + csb + 2*cov)/2\n",
    "\n",
    "c1on = (cdb + csb + cgd + cgs)/2\n",
    "\n",
    "Ron = 1/(uncox*(widthn/lengthn)*(vgs-vth))\n",
    "\n",
    "# unit cap = cb\n",
    "pi_value = 3.14159\n",
    "c_par = 1/(Ls * (2*pi_value*f_sr)**2)\n",
    "\n",
    "q_ind_est = 2*pi_value*f_center*Ls/Rs\n",
    "\n",
    "Rp_ind = Rs*(1+q_ind**2)\n",
    "c_res = 1/((2*pi_value*f_center)**2 * Ls)\n",
    "print('c_res = ' + str(c_res))\n",
    "\n",
    "f0 = 1/(2*pi_value*np.sqrt(Ls*c_res))\n",
    "f0mod = 1/(2*pi_value*np.sqrt(Ls*(c_res+(c1on-c1off)/2)))\n",
    "\n",
    "Req = Rp_ind*Ron/(Rp_ind+Ron)\n",
    "\n",
    "z_rlc_p_mod_mag = 1/np.sqrt(np.square(1/Req) + np.square(2*pi_value*f_center*(c_res+(c1on-c1off)/2)-1/(2*pi_value*f_center*Ls)))\n",
    "\n",
    "print('c_par = ' + str(c_par))\n",
    "print('q_ind = ' + str(q_ind))\n",
    "print('q_ind_est = ' + str(q_ind_est))\n",
    "print('Rp_ind = ' + str(Rp_ind))\n",
    "print('f0 = ' + str(f0))\n",
    "print('f0mod = ' + str(f0mod))\n",
    "print('Ron = ' + str(Ron))\n",
    "print('Req = ' + str(Req))\n",
    "print('z_rlc_p_mod_mag = ' + str(z_rlc_p_mod_mag))\n"
   ]
  },
  {
   "cell_type": "code",
   "execution_count": 4,
   "id": "c712f27f",
   "metadata": {},
   "outputs": [
    {
     "data": {
      "image/png": "[encoded data removed]",
      "text/plain": [
       "<Figure size 640x480 with 2 Axes>"
      ]
     },
     "metadata": {},
     "output_type": "display_data"
    }
   ],
   "source": [
    "# ID vs VDS\n",
    "fig, axs = plt.subplots(2,1,sharex='col')\n",
    "\n",
    "#axs[0].set_title('sg13_lv_nmos (L=0.5um, VGS=0.75V)')\n",
    "axs[0].plot(widthn*1e6, Req, label='Req')\n",
    "axs[0].plot(widthn*1e6, Rp_ind*np.array([1,1,1,1,1,1])/100, label='Rp_ind/100')\n",
    "axs[0].set_ylabel('Z (Ohm)')\n",
    "axs[0].grid()\n",
    "axs[0].legend(loc='best',fontsize='small')\n",
    "axs[1].set_xlabel('Wn (um)')\n",
    "axs[1].grid()\n",
    "\n",
    "plt.show()"
   ]
  },
  {
   "cell_type": "code",
   "execution_count": 6,
   "id": "592efbec",
   "metadata": {},
   "outputs": [
    {
     "name": "stdout",
     "output_type": "stream",
     "text": [
      "widthn_val = 3.906330602299193e-06\n",
      "widthn_val/2 = 1.9531653011495966e-06\n"
     ]
    }
   ],
   "source": [
    "# output W\n",
    "if Rp_ind>10e3:\n",
    "    factor=100\n",
    "elif Rp_ind>5e3:\n",
    "    factor=50\n",
    "else:\n",
    "    factor=10\n",
    "\n",
    "widthn_val = np.interp(Rp_ind/factor,np.flip(Req),np.flip(widthn))\n",
    "print('widthn_val = ' + str(widthn_val))\n",
    "print('widthn_val/2 = ' + str(widthn_val/2))"
   ]
  }
 ],
 "metadata": {
  "kernelspec": {
   "display_name": ".venv",
   "language": "python",
   "name": "python3"
  },
  "language_info": {
   "codemirror_mode": {
    "name": "ipython",
    "version": 3
   },
   "file_extension": ".py",
   "mimetype": "text/x-python",
   "name": "python",
   "nbconvert_exporter": "python",
   "pygments_lexer": "ipython3",
   "version": "3.13.5"
  }
 },
 "nbformat": 4,
 "nbformat_minor": 5
}
